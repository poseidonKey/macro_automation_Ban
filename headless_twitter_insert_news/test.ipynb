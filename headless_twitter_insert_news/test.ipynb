{
 "cells": [
  {
   "cell_type": "code",
   "execution_count": 1,
   "metadata": {},
   "outputs": [
    {
     "name": "stderr",
     "output_type": "stream",
     "text": [
      "C:\\Users\\PC\\AppData\\Local\\Temp\\ipykernel_21292\\2101601562.py:5: DeprecationWarning: executable_path has been deprecated, please pass in a Service object\n",
      "  driver=webdriver.Chrome(executable_path=\"chromedriver.exe\")\n"
     ]
    }
   ],
   "source": [
    "import time\n",
    "from selenium import webdriver\n",
    "import pywinmacro as p\n",
    "\n",
    "driver=webdriver.Chrome(executable_path=\"chromedriver.exe\")\n",
    "driver.get(\"https://google.com\")\n"
   ]
  },
  {
   "cell_type": "code",
   "execution_count": 2,
   "metadata": {},
   "outputs": [],
   "source": [
    "from selenium.webdriver.common.by import By"
   ]
  },
  {
   "cell_type": "code",
   "execution_count": 4,
   "metadata": {},
   "outputs": [
    {
     "name": "stdout",
     "output_type": "stream",
     "text": [
      "https://www.ytn.co.kr/_ln/0101_202301100525233170\n",
      "https://www.yonhapnewstv.co.kr/news/MYH20230109007300641\n",
      "https://m.lawissue.co.kr/view.php?ud=202301091551525994b3279dfb36_12\n",
      "https://www.newsis.com/view/?id=NISX20230109_0002152659\n",
      "https://www.hani.co.kr/arti/politics/politics_general/1075029.html\n",
      "https://www.straightnews.co.kr/news/articleView.html?idxno=223508\n",
      "http://www.dt.co.kr/contents.html?article_no=2023010902109958050004\n",
      "https://www.donga.com/news/Politics/article/all/20230109/117355513/1\n",
      "https://www.yna.co.kr/view/AKR20230109136400001\n"
     ]
    }
   ],
   "source": [
    "els=driver.find_elements(by=By.CLASS_NAME,value=\"SoaBEf\")\n",
    "for el in els:\n",
    "  sub=el.find_element(by=By.CLASS_NAME,value=\"mCBkyc.ynAwRc.MBeuO.nDgy9d\")\n",
    "  # link=el.find_element(by=By.CLASS_NAME,value=\"WlydOe\")\n",
    "  link=el.find_element(by=By.TAG_NAME,value=\"a\")\n",
    "  url=link.get_attribute(\"href\")\n",
    "  print(url)"
   ]
  },
  {
   "cell_type": "code",
   "execution_count": 5,
   "metadata": {},
   "outputs": [
    {
     "name": "stdout",
     "output_type": "stream",
     "text": [
      "[앵커]오늘 검찰 소환 조사를 앞둔 민주당 이재명 대표는 윤석열 정부를 겨냥해 뻔뻔하고 대책 없는 정권이라며 비난 수위를 끌어올렸습니다.\n",
      "\n",
      "여 \"본회의 현안질의 안돼\"…야 \"국회 문 열어야\" 더불어민주당이 단독으로 1월 임시국회를 소집한 가운데, 여야의 기싸움이 이어지고 있습니다.\n",
      "\n",
      "여야가 1월 임시국회 회기 첫날인 9일 팽팽한 공방을 펼치며 정국을 긴장하게 만들고 있다. 연합뉴스에 따르면 더불어민주당이 지난 6일 임시국회...\n",
      "\n",
      "기사내용 요약. 노봉법 및 일몰법 처리·대북 대책 마련 핵심 의제로 \"방탄이냐 민생이냐...양당 의제 논의 참여에 달려\"\n",
      "\n",
      "1월 임시국회가 '방탄' 논란 속에 북한 무인기 침투 사태 등 주요 현안 논의와 관련한 의사 일정도 잡지 못한 채 첫날부터 공전했다.\n",
      "\n",
      "국회에 지난 주 접수된 총 70건의 의안 중 '방송통신발전 기본법 일부개정법률안' 등 69건의 제개정 법률안이 계류 중이며, 신규 공개된 국민동의청원...\n",
      "\n",
      "방탄 국회' 국민의힘 압박에 '정면 돌파' 반격 \"국민의힘 제안한 北결의안 채택해도 본회의 올려야지 않느나\". 박홍근 더불어민주당 원내대표는 9일 1...\n",
      "\n",
      "정치제도와 개헌을 논의하기 위한 국회의장 직속 '헌법개정 및 정치제도 개선 자문위원회'가 9일 출범했다. 김진표 국회의장은 이날 오전 국회에서...\n",
      "\n",
      "... △ 국회의장. 설맞이 국회 대장터(11:00 소통관 로비 및 앞마당). ADVERTISEMENT. △ 본회의 및 상임위원회. 용산 이태원 참사 진상규명과 재발...\n",
      "\n"
     ]
    }
   ],
   "source": [
    "contents=driver.find_elements(by=By.CLASS_NAME,value=\"GI74Re.nDgy9d\")\n",
    "for content in contents:\n",
    "  print(content.text+\"\\n\")"
   ]
  }
 ],
 "metadata": {
  "kernelspec": {
   "display_name": "Python 3",
   "language": "python",
   "name": "python3"
  },
  "language_info": {
   "codemirror_mode": {
    "name": "ipython",
    "version": 3
   },
   "file_extension": ".py",
   "mimetype": "text/x-python",
   "name": "python",
   "nbconvert_exporter": "python",
   "pygments_lexer": "ipython3",
   "version": "3.10.6"
  },
  "orig_nbformat": 4,
  "vscode": {
   "interpreter": {
    "hash": "e593ac106456af50ce7af38f9671c411b49d6cd90f9b885e167f0f594e09038c"
   }
  }
 },
 "nbformat": 4,
 "nbformat_minor": 2
}
